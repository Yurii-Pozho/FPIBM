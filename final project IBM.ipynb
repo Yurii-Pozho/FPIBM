{
 "cells": [
  {
   "cell_type": "markdown",
   "id": "00fc75f7-ae6a-497b-ba34-322953b157ad",
   "metadata": {},
   "source": [
    "# Data Science Final Project"
   ]
  },
  {
   "cell_type": "markdown",
   "id": "7049e8bb-29bb-4982-8aed-dac0d57ab885",
   "metadata": {},
   "source": [
    "## Introduction\n",
    "This notebook demonstrates the application of data science tools and techniques."
   ]
  },
  {
   "cell_type": "markdown",
   "id": "8f976393-e901-4ee1-a642-d6e2f93f75c2",
   "metadata": {},
   "source": [
    "## Data Science Languages\n",
    "1. Python\n",
    "2. R\n",
    "3. SQL\n",
    "4. Julia"
   ]
  },
  {
   "cell_type": "markdown",
   "id": "1f1c1496-7a79-47db-a065-991de31014d9",
   "metadata": {},
   "source": [
    "## Data Science Libraries\n",
    "1. Pandas\n",
    "2. NumPy\n",
    "3. Matplotlib\n",
    "4. Scikit-learn\n",
    "5. TensorFlow"
   ]
  },
  {
   "cell_type": "markdown",
   "id": "9a3689c0-a716-4e60-95d3-6e95820749a5",
   "metadata": {},
   "source": [
    "## Data Science Tools\n",
    "| Tool          | Description                            |\n",
    "|---------------|----------------------------------------|\n",
    "| JupyterLite   | Lightweight Jupyter Notebook environment |\n",
    "| GitHub        | Platform for version control and collaboration |\n",
    "| Pandas        | Data manipulation library in Python    |\n"
   ]
  },
  {
   "cell_type": "markdown",
   "id": "cb7df435-b1c5-4ce1-9fc3-1601ff5b2f6e",
   "metadata": {},
   "source": [
    "## Arithmetic Expressions\n",
    "Below is an example of basic arithmetic operations."
   ]
  },
  {
   "cell_type": "code",
   "execution_count": 2,
   "id": "bc8c4205-50c3-42b0-a4f2-f7c7f619f042",
   "metadata": {},
   "outputs": [
    {
     "data": {
      "text/plain": [
       "70"
      ]
     },
     "execution_count": 2,
     "metadata": {},
     "output_type": "execute_result"
    }
   ],
   "source": [
    "# Multiplying and adding numbers\n",
    "num1 = 5\n",
    "num2 = 10\n",
    "result = num1 * num2 + 20\n",
    "result"
   ]
  },
  {
   "cell_type": "code",
   "execution_count": 3,
   "id": "0f71cc38-a02d-4d22-be43-ec87cdbf6da8",
   "metadata": {},
   "outputs": [
    {
     "data": {
      "text/plain": [
       "2.0"
      ]
     },
     "execution_count": 3,
     "metadata": {},
     "output_type": "execute_result"
    }
   ],
   "source": [
    "# Convert minutes to hours\n",
    "def minutes_to_hours(minutes):\n",
    "    return minutes / 60\n",
    "\n",
    "minutes_to_hours(120)"
   ]
  },
  {
   "cell_type": "markdown",
   "id": "859e14b6-ea01-48a3-a7c9-aec4e805d492",
   "metadata": {},
   "source": [
    "## Objectives\n",
    "The goal of this notebook is to demonstrate basic data science operations using JupyterLite."
   ]
  },
  {
   "cell_type": "markdown",
   "id": "1592e332-3051-4f46-84cc-8fc8b307c3f2",
   "metadata": {},
   "source": [
    "## Author\n",
    "This notebook was created by Yurii Pozho"
   ]
  },
  {
   "cell_type": "code",
   "execution_count": null,
   "id": "1ab2febe-3779-42f2-885d-306f565040fc",
   "metadata": {},
   "outputs": [],
   "source": []
  }
 ],
 "metadata": {
  "kernelspec": {
   "display_name": "Python 3 (ipykernel)",
   "language": "python",
   "name": "python3"
  },
  "language_info": {
   "codemirror_mode": {
    "name": "ipython",
    "version": 3
   },
   "file_extension": ".py",
   "mimetype": "text/x-python",
   "name": "python",
   "nbconvert_exporter": "python",
   "pygments_lexer": "ipython3",
   "version": "3.12.2"
  }
 },
 "nbformat": 4,
 "nbformat_minor": 5
}
